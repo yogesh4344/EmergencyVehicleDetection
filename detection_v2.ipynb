{
  "nbformat": 4,
  "nbformat_minor": 0,
  "metadata": {
    "colab": {
      "provenance": [],
      "gpuType": "T4"
    },
    "kernelspec": {
      "name": "python3",
      "display_name": "Python 3"
    },
    "language_info": {
      "name": "python"
    },
    "accelerator": "GPU"
  },
  "cells": [
    {
      "cell_type": "code",
      "execution_count": 1,
      "metadata": {
        "id": "GnVAMTQ0xfkK",
        "colab": {
          "base_uri": "https://localhost:8080/"
        },
        "outputId": "dbc602df-df6f-4006-b3ac-45ef08f68b49"
      },
      "outputs": [
        {
          "output_type": "stream",
          "name": "stdout",
          "text": [
            "Cloning into 'Qualcomm-DL-Hackathon'...\n",
            "remote: Enumerating objects: 10, done.\u001b[K\n",
            "remote: Counting objects: 100% (10/10), done.\u001b[K\n",
            "remote: Compressing objects: 100% (10/10), done.\u001b[K\n",
            "remote: Total 10 (delta 1), reused 0 (delta 0), pack-reused 0 (from 0)\u001b[K\n",
            "Receiving objects: 100% (10/10), 30.68 MiB | 15.91 MiB/s, done.\n",
            "Resolving deltas: 100% (1/1), done.\n"
          ]
        }
      ],
      "source": [
        "!git clone https://github.com/Prashant-AV/Qualcomm-DL-Hackathon.git"
      ]
    },
    {
      "cell_type": "code",
      "source": [
        "import pandas as pd\n",
        "\n",
        "train_data = pd.read_csv('/content/Qualcomm-DL-Hackathon/train/train.csv')\n",
        "train_data.head()\n",
        "#train_data.shape"
      ],
      "metadata": {
        "colab": {
          "base_uri": "https://localhost:8080/",
          "height": 226
        },
        "id": "yhZWBg2Q9A0g",
        "outputId": "fbe624f0-b792-48f0-e52e-8ff568a8cbf2"
      },
      "execution_count": 2,
      "outputs": [
        {
          "output_type": "execute_result",
          "data": {
            "text/plain": [
              "  image_names  emergency_or_not\n",
              "0    1503.jpg                 0\n",
              "1    1420.jpg                 0\n",
              "2    1764.jpg                 0\n",
              "3    1356.jpg                 0\n",
              "4    1117.jpg                 0"
            ],
            "text/html": [
              "\n",
              "  <div id=\"df-c43508eb-03c7-471a-9b75-c0bdf3154623\" class=\"colab-df-container\">\n",
              "    <div>\n",
              "<style scoped>\n",
              "    .dataframe tbody tr th:only-of-type {\n",
              "        vertical-align: middle;\n",
              "    }\n",
              "\n",
              "    .dataframe tbody tr th {\n",
              "        vertical-align: top;\n",
              "    }\n",
              "\n",
              "    .dataframe thead th {\n",
              "        text-align: right;\n",
              "    }\n",
              "</style>\n",
              "<table border=\"1\" class=\"dataframe\">\n",
              "  <thead>\n",
              "    <tr style=\"text-align: right;\">\n",
              "      <th></th>\n",
              "      <th>image_names</th>\n",
              "      <th>emergency_or_not</th>\n",
              "    </tr>\n",
              "  </thead>\n",
              "  <tbody>\n",
              "    <tr>\n",
              "      <th>0</th>\n",
              "      <td>1503.jpg</td>\n",
              "      <td>0</td>\n",
              "    </tr>\n",
              "    <tr>\n",
              "      <th>1</th>\n",
              "      <td>1420.jpg</td>\n",
              "      <td>0</td>\n",
              "    </tr>\n",
              "    <tr>\n",
              "      <th>2</th>\n",
              "      <td>1764.jpg</td>\n",
              "      <td>0</td>\n",
              "    </tr>\n",
              "    <tr>\n",
              "      <th>3</th>\n",
              "      <td>1356.jpg</td>\n",
              "      <td>0</td>\n",
              "    </tr>\n",
              "    <tr>\n",
              "      <th>4</th>\n",
              "      <td>1117.jpg</td>\n",
              "      <td>0</td>\n",
              "    </tr>\n",
              "  </tbody>\n",
              "</table>\n",
              "</div>\n",
              "    <div class=\"colab-df-buttons\">\n",
              "\n",
              "  <div class=\"colab-df-container\">\n",
              "    <button class=\"colab-df-convert\" onclick=\"convertToInteractive('df-c43508eb-03c7-471a-9b75-c0bdf3154623')\"\n",
              "            title=\"Convert this dataframe to an interactive table.\"\n",
              "            style=\"display:none;\">\n",
              "\n",
              "  <svg xmlns=\"http://www.w3.org/2000/svg\" height=\"24px\" viewBox=\"0 -960 960 960\">\n",
              "    <path d=\"M120-120v-720h720v720H120Zm60-500h600v-160H180v160Zm220 220h160v-160H400v160Zm0 220h160v-160H400v160ZM180-400h160v-160H180v160Zm440 0h160v-160H620v160ZM180-180h160v-160H180v160Zm440 0h160v-160H620v160Z\"/>\n",
              "  </svg>\n",
              "    </button>\n",
              "\n",
              "  <style>\n",
              "    .colab-df-container {\n",
              "      display:flex;\n",
              "      gap: 12px;\n",
              "    }\n",
              "\n",
              "    .colab-df-convert {\n",
              "      background-color: #E8F0FE;\n",
              "      border: none;\n",
              "      border-radius: 50%;\n",
              "      cursor: pointer;\n",
              "      display: none;\n",
              "      fill: #1967D2;\n",
              "      height: 32px;\n",
              "      padding: 0 0 0 0;\n",
              "      width: 32px;\n",
              "    }\n",
              "\n",
              "    .colab-df-convert:hover {\n",
              "      background-color: #E2EBFA;\n",
              "      box-shadow: 0px 1px 2px rgba(60, 64, 67, 0.3), 0px 1px 3px 1px rgba(60, 64, 67, 0.15);\n",
              "      fill: #174EA6;\n",
              "    }\n",
              "\n",
              "    .colab-df-buttons div {\n",
              "      margin-bottom: 4px;\n",
              "    }\n",
              "\n",
              "    [theme=dark] .colab-df-convert {\n",
              "      background-color: #3B4455;\n",
              "      fill: #D2E3FC;\n",
              "    }\n",
              "\n",
              "    [theme=dark] .colab-df-convert:hover {\n",
              "      background-color: #434B5C;\n",
              "      box-shadow: 0px 1px 3px 1px rgba(0, 0, 0, 0.15);\n",
              "      filter: drop-shadow(0px 1px 2px rgba(0, 0, 0, 0.3));\n",
              "      fill: #FFFFFF;\n",
              "    }\n",
              "  </style>\n",
              "\n",
              "    <script>\n",
              "      const buttonEl =\n",
              "        document.querySelector('#df-c43508eb-03c7-471a-9b75-c0bdf3154623 button.colab-df-convert');\n",
              "      buttonEl.style.display =\n",
              "        google.colab.kernel.accessAllowed ? 'block' : 'none';\n",
              "\n",
              "      async function convertToInteractive(key) {\n",
              "        const element = document.querySelector('#df-c43508eb-03c7-471a-9b75-c0bdf3154623');\n",
              "        const dataTable =\n",
              "          await google.colab.kernel.invokeFunction('convertToInteractive',\n",
              "                                                    [key], {});\n",
              "        if (!dataTable) return;\n",
              "\n",
              "        const docLinkHtml = 'Like what you see? Visit the ' +\n",
              "          '<a target=\"_blank\" href=https://colab.research.google.com/notebooks/data_table.ipynb>data table notebook</a>'\n",
              "          + ' to learn more about interactive tables.';\n",
              "        element.innerHTML = '';\n",
              "        dataTable['output_type'] = 'display_data';\n",
              "        await google.colab.output.renderOutput(dataTable, element);\n",
              "        const docLink = document.createElement('div');\n",
              "        docLink.innerHTML = docLinkHtml;\n",
              "        element.appendChild(docLink);\n",
              "      }\n",
              "    </script>\n",
              "  </div>\n",
              "\n",
              "\n",
              "<div id=\"df-428c2d48-fea0-4847-9e86-468460160c53\">\n",
              "  <button class=\"colab-df-quickchart\" onclick=\"quickchart('df-428c2d48-fea0-4847-9e86-468460160c53')\"\n",
              "            title=\"Suggest charts\"\n",
              "            style=\"display:none;\">\n",
              "\n",
              "<svg xmlns=\"http://www.w3.org/2000/svg\" height=\"24px\"viewBox=\"0 0 24 24\"\n",
              "     width=\"24px\">\n",
              "    <g>\n",
              "        <path d=\"M19 3H5c-1.1 0-2 .9-2 2v14c0 1.1.9 2 2 2h14c1.1 0 2-.9 2-2V5c0-1.1-.9-2-2-2zM9 17H7v-7h2v7zm4 0h-2V7h2v10zm4 0h-2v-4h2v4z\"/>\n",
              "    </g>\n",
              "</svg>\n",
              "  </button>\n",
              "\n",
              "<style>\n",
              "  .colab-df-quickchart {\n",
              "      --bg-color: #E8F0FE;\n",
              "      --fill-color: #1967D2;\n",
              "      --hover-bg-color: #E2EBFA;\n",
              "      --hover-fill-color: #174EA6;\n",
              "      --disabled-fill-color: #AAA;\n",
              "      --disabled-bg-color: #DDD;\n",
              "  }\n",
              "\n",
              "  [theme=dark] .colab-df-quickchart {\n",
              "      --bg-color: #3B4455;\n",
              "      --fill-color: #D2E3FC;\n",
              "      --hover-bg-color: #434B5C;\n",
              "      --hover-fill-color: #FFFFFF;\n",
              "      --disabled-bg-color: #3B4455;\n",
              "      --disabled-fill-color: #666;\n",
              "  }\n",
              "\n",
              "  .colab-df-quickchart {\n",
              "    background-color: var(--bg-color);\n",
              "    border: none;\n",
              "    border-radius: 50%;\n",
              "    cursor: pointer;\n",
              "    display: none;\n",
              "    fill: var(--fill-color);\n",
              "    height: 32px;\n",
              "    padding: 0;\n",
              "    width: 32px;\n",
              "  }\n",
              "\n",
              "  .colab-df-quickchart:hover {\n",
              "    background-color: var(--hover-bg-color);\n",
              "    box-shadow: 0 1px 2px rgba(60, 64, 67, 0.3), 0 1px 3px 1px rgba(60, 64, 67, 0.15);\n",
              "    fill: var(--button-hover-fill-color);\n",
              "  }\n",
              "\n",
              "  .colab-df-quickchart-complete:disabled,\n",
              "  .colab-df-quickchart-complete:disabled:hover {\n",
              "    background-color: var(--disabled-bg-color);\n",
              "    fill: var(--disabled-fill-color);\n",
              "    box-shadow: none;\n",
              "  }\n",
              "\n",
              "  .colab-df-spinner {\n",
              "    border: 2px solid var(--fill-color);\n",
              "    border-color: transparent;\n",
              "    border-bottom-color: var(--fill-color);\n",
              "    animation:\n",
              "      spin 1s steps(1) infinite;\n",
              "  }\n",
              "\n",
              "  @keyframes spin {\n",
              "    0% {\n",
              "      border-color: transparent;\n",
              "      border-bottom-color: var(--fill-color);\n",
              "      border-left-color: var(--fill-color);\n",
              "    }\n",
              "    20% {\n",
              "      border-color: transparent;\n",
              "      border-left-color: var(--fill-color);\n",
              "      border-top-color: var(--fill-color);\n",
              "    }\n",
              "    30% {\n",
              "      border-color: transparent;\n",
              "      border-left-color: var(--fill-color);\n",
              "      border-top-color: var(--fill-color);\n",
              "      border-right-color: var(--fill-color);\n",
              "    }\n",
              "    40% {\n",
              "      border-color: transparent;\n",
              "      border-right-color: var(--fill-color);\n",
              "      border-top-color: var(--fill-color);\n",
              "    }\n",
              "    60% {\n",
              "      border-color: transparent;\n",
              "      border-right-color: var(--fill-color);\n",
              "    }\n",
              "    80% {\n",
              "      border-color: transparent;\n",
              "      border-right-color: var(--fill-color);\n",
              "      border-bottom-color: var(--fill-color);\n",
              "    }\n",
              "    90% {\n",
              "      border-color: transparent;\n",
              "      border-bottom-color: var(--fill-color);\n",
              "    }\n",
              "  }\n",
              "</style>\n",
              "\n",
              "  <script>\n",
              "    async function quickchart(key) {\n",
              "      const quickchartButtonEl =\n",
              "        document.querySelector('#' + key + ' button');\n",
              "      quickchartButtonEl.disabled = true;  // To prevent multiple clicks.\n",
              "      quickchartButtonEl.classList.add('colab-df-spinner');\n",
              "      try {\n",
              "        const charts = await google.colab.kernel.invokeFunction(\n",
              "            'suggestCharts', [key], {});\n",
              "      } catch (error) {\n",
              "        console.error('Error during call to suggestCharts:', error);\n",
              "      }\n",
              "      quickchartButtonEl.classList.remove('colab-df-spinner');\n",
              "      quickchartButtonEl.classList.add('colab-df-quickchart-complete');\n",
              "    }\n",
              "    (() => {\n",
              "      let quickchartButtonEl =\n",
              "        document.querySelector('#df-428c2d48-fea0-4847-9e86-468460160c53 button');\n",
              "      quickchartButtonEl.style.display =\n",
              "        google.colab.kernel.accessAllowed ? 'block' : 'none';\n",
              "    })();\n",
              "  </script>\n",
              "</div>\n",
              "\n",
              "    </div>\n",
              "  </div>\n"
            ],
            "application/vnd.google.colaboratory.intrinsic+json": {
              "type": "dataframe",
              "summary": "{\n  \"name\": \"#train_data\",\n  \"rows\": 5,\n  \"fields\": [\n    {\n      \"column\": \"image_names\",\n      \"properties\": {\n        \"dtype\": \"string\",\n        \"num_unique_values\": 5,\n        \"samples\": [\n          \"1420.jpg\",\n          \"1117.jpg\",\n          \"1764.jpg\"\n        ],\n        \"semantic_type\": \"\",\n        \"description\": \"\"\n      }\n    },\n    {\n      \"column\": \"emergency_or_not\",\n      \"properties\": {\n        \"dtype\": \"number\",\n        \"std\": 0,\n        \"min\": 0,\n        \"max\": 0,\n        \"num_unique_values\": 1,\n        \"samples\": [\n          0\n        ],\n        \"semantic_type\": \"\",\n        \"description\": \"\"\n      }\n    }\n  ]\n}"
            }
          },
          "metadata": {},
          "execution_count": 2
        }
      ]
    },
    {
      "cell_type": "code",
      "source": [
        "test_data = pd.read_csv('/content/Qualcomm-DL-Hackathon/test.csv')\n",
        "test_data.head()\n",
        "#train_data.shape"
      ],
      "metadata": {
        "colab": {
          "base_uri": "https://localhost:8080/",
          "height": 226
        },
        "id": "69zhoBjS9BSI",
        "outputId": "7813f90e-7c1d-4a2c-d525-c8d65e7bc0d3"
      },
      "execution_count": 3,
      "outputs": [
        {
          "output_type": "execute_result",
          "data": {
            "text/plain": [
              "  image_names\n",
              "0    1960.jpg\n",
              "1     668.jpg\n",
              "2    2082.jpg\n",
              "3     808.jpg\n",
              "4    1907.jpg"
            ],
            "text/html": [
              "\n",
              "  <div id=\"df-86b99a70-1cc2-4f41-b474-cc50f291d5ea\" class=\"colab-df-container\">\n",
              "    <div>\n",
              "<style scoped>\n",
              "    .dataframe tbody tr th:only-of-type {\n",
              "        vertical-align: middle;\n",
              "    }\n",
              "\n",
              "    .dataframe tbody tr th {\n",
              "        vertical-align: top;\n",
              "    }\n",
              "\n",
              "    .dataframe thead th {\n",
              "        text-align: right;\n",
              "    }\n",
              "</style>\n",
              "<table border=\"1\" class=\"dataframe\">\n",
              "  <thead>\n",
              "    <tr style=\"text-align: right;\">\n",
              "      <th></th>\n",
              "      <th>image_names</th>\n",
              "    </tr>\n",
              "  </thead>\n",
              "  <tbody>\n",
              "    <tr>\n",
              "      <th>0</th>\n",
              "      <td>1960.jpg</td>\n",
              "    </tr>\n",
              "    <tr>\n",
              "      <th>1</th>\n",
              "      <td>668.jpg</td>\n",
              "    </tr>\n",
              "    <tr>\n",
              "      <th>2</th>\n",
              "      <td>2082.jpg</td>\n",
              "    </tr>\n",
              "    <tr>\n",
              "      <th>3</th>\n",
              "      <td>808.jpg</td>\n",
              "    </tr>\n",
              "    <tr>\n",
              "      <th>4</th>\n",
              "      <td>1907.jpg</td>\n",
              "    </tr>\n",
              "  </tbody>\n",
              "</table>\n",
              "</div>\n",
              "    <div class=\"colab-df-buttons\">\n",
              "\n",
              "  <div class=\"colab-df-container\">\n",
              "    <button class=\"colab-df-convert\" onclick=\"convertToInteractive('df-86b99a70-1cc2-4f41-b474-cc50f291d5ea')\"\n",
              "            title=\"Convert this dataframe to an interactive table.\"\n",
              "            style=\"display:none;\">\n",
              "\n",
              "  <svg xmlns=\"http://www.w3.org/2000/svg\" height=\"24px\" viewBox=\"0 -960 960 960\">\n",
              "    <path d=\"M120-120v-720h720v720H120Zm60-500h600v-160H180v160Zm220 220h160v-160H400v160Zm0 220h160v-160H400v160ZM180-400h160v-160H180v160Zm440 0h160v-160H620v160ZM180-180h160v-160H180v160Zm440 0h160v-160H620v160Z\"/>\n",
              "  </svg>\n",
              "    </button>\n",
              "\n",
              "  <style>\n",
              "    .colab-df-container {\n",
              "      display:flex;\n",
              "      gap: 12px;\n",
              "    }\n",
              "\n",
              "    .colab-df-convert {\n",
              "      background-color: #E8F0FE;\n",
              "      border: none;\n",
              "      border-radius: 50%;\n",
              "      cursor: pointer;\n",
              "      display: none;\n",
              "      fill: #1967D2;\n",
              "      height: 32px;\n",
              "      padding: 0 0 0 0;\n",
              "      width: 32px;\n",
              "    }\n",
              "\n",
              "    .colab-df-convert:hover {\n",
              "      background-color: #E2EBFA;\n",
              "      box-shadow: 0px 1px 2px rgba(60, 64, 67, 0.3), 0px 1px 3px 1px rgba(60, 64, 67, 0.15);\n",
              "      fill: #174EA6;\n",
              "    }\n",
              "\n",
              "    .colab-df-buttons div {\n",
              "      margin-bottom: 4px;\n",
              "    }\n",
              "\n",
              "    [theme=dark] .colab-df-convert {\n",
              "      background-color: #3B4455;\n",
              "      fill: #D2E3FC;\n",
              "    }\n",
              "\n",
              "    [theme=dark] .colab-df-convert:hover {\n",
              "      background-color: #434B5C;\n",
              "      box-shadow: 0px 1px 3px 1px rgba(0, 0, 0, 0.15);\n",
              "      filter: drop-shadow(0px 1px 2px rgba(0, 0, 0, 0.3));\n",
              "      fill: #FFFFFF;\n",
              "    }\n",
              "  </style>\n",
              "\n",
              "    <script>\n",
              "      const buttonEl =\n",
              "        document.querySelector('#df-86b99a70-1cc2-4f41-b474-cc50f291d5ea button.colab-df-convert');\n",
              "      buttonEl.style.display =\n",
              "        google.colab.kernel.accessAllowed ? 'block' : 'none';\n",
              "\n",
              "      async function convertToInteractive(key) {\n",
              "        const element = document.querySelector('#df-86b99a70-1cc2-4f41-b474-cc50f291d5ea');\n",
              "        const dataTable =\n",
              "          await google.colab.kernel.invokeFunction('convertToInteractive',\n",
              "                                                    [key], {});\n",
              "        if (!dataTable) return;\n",
              "\n",
              "        const docLinkHtml = 'Like what you see? Visit the ' +\n",
              "          '<a target=\"_blank\" href=https://colab.research.google.com/notebooks/data_table.ipynb>data table notebook</a>'\n",
              "          + ' to learn more about interactive tables.';\n",
              "        element.innerHTML = '';\n",
              "        dataTable['output_type'] = 'display_data';\n",
              "        await google.colab.output.renderOutput(dataTable, element);\n",
              "        const docLink = document.createElement('div');\n",
              "        docLink.innerHTML = docLinkHtml;\n",
              "        element.appendChild(docLink);\n",
              "      }\n",
              "    </script>\n",
              "  </div>\n",
              "\n",
              "\n",
              "<div id=\"df-6552d853-a33a-4ef0-ba13-a692ac8b27d9\">\n",
              "  <button class=\"colab-df-quickchart\" onclick=\"quickchart('df-6552d853-a33a-4ef0-ba13-a692ac8b27d9')\"\n",
              "            title=\"Suggest charts\"\n",
              "            style=\"display:none;\">\n",
              "\n",
              "<svg xmlns=\"http://www.w3.org/2000/svg\" height=\"24px\"viewBox=\"0 0 24 24\"\n",
              "     width=\"24px\">\n",
              "    <g>\n",
              "        <path d=\"M19 3H5c-1.1 0-2 .9-2 2v14c0 1.1.9 2 2 2h14c1.1 0 2-.9 2-2V5c0-1.1-.9-2-2-2zM9 17H7v-7h2v7zm4 0h-2V7h2v10zm4 0h-2v-4h2v4z\"/>\n",
              "    </g>\n",
              "</svg>\n",
              "  </button>\n",
              "\n",
              "<style>\n",
              "  .colab-df-quickchart {\n",
              "      --bg-color: #E8F0FE;\n",
              "      --fill-color: #1967D2;\n",
              "      --hover-bg-color: #E2EBFA;\n",
              "      --hover-fill-color: #174EA6;\n",
              "      --disabled-fill-color: #AAA;\n",
              "      --disabled-bg-color: #DDD;\n",
              "  }\n",
              "\n",
              "  [theme=dark] .colab-df-quickchart {\n",
              "      --bg-color: #3B4455;\n",
              "      --fill-color: #D2E3FC;\n",
              "      --hover-bg-color: #434B5C;\n",
              "      --hover-fill-color: #FFFFFF;\n",
              "      --disabled-bg-color: #3B4455;\n",
              "      --disabled-fill-color: #666;\n",
              "  }\n",
              "\n",
              "  .colab-df-quickchart {\n",
              "    background-color: var(--bg-color);\n",
              "    border: none;\n",
              "    border-radius: 50%;\n",
              "    cursor: pointer;\n",
              "    display: none;\n",
              "    fill: var(--fill-color);\n",
              "    height: 32px;\n",
              "    padding: 0;\n",
              "    width: 32px;\n",
              "  }\n",
              "\n",
              "  .colab-df-quickchart:hover {\n",
              "    background-color: var(--hover-bg-color);\n",
              "    box-shadow: 0 1px 2px rgba(60, 64, 67, 0.3), 0 1px 3px 1px rgba(60, 64, 67, 0.15);\n",
              "    fill: var(--button-hover-fill-color);\n",
              "  }\n",
              "\n",
              "  .colab-df-quickchart-complete:disabled,\n",
              "  .colab-df-quickchart-complete:disabled:hover {\n",
              "    background-color: var(--disabled-bg-color);\n",
              "    fill: var(--disabled-fill-color);\n",
              "    box-shadow: none;\n",
              "  }\n",
              "\n",
              "  .colab-df-spinner {\n",
              "    border: 2px solid var(--fill-color);\n",
              "    border-color: transparent;\n",
              "    border-bottom-color: var(--fill-color);\n",
              "    animation:\n",
              "      spin 1s steps(1) infinite;\n",
              "  }\n",
              "\n",
              "  @keyframes spin {\n",
              "    0% {\n",
              "      border-color: transparent;\n",
              "      border-bottom-color: var(--fill-color);\n",
              "      border-left-color: var(--fill-color);\n",
              "    }\n",
              "    20% {\n",
              "      border-color: transparent;\n",
              "      border-left-color: var(--fill-color);\n",
              "      border-top-color: var(--fill-color);\n",
              "    }\n",
              "    30% {\n",
              "      border-color: transparent;\n",
              "      border-left-color: var(--fill-color);\n",
              "      border-top-color: var(--fill-color);\n",
              "      border-right-color: var(--fill-color);\n",
              "    }\n",
              "    40% {\n",
              "      border-color: transparent;\n",
              "      border-right-color: var(--fill-color);\n",
              "      border-top-color: var(--fill-color);\n",
              "    }\n",
              "    60% {\n",
              "      border-color: transparent;\n",
              "      border-right-color: var(--fill-color);\n",
              "    }\n",
              "    80% {\n",
              "      border-color: transparent;\n",
              "      border-right-color: var(--fill-color);\n",
              "      border-bottom-color: var(--fill-color);\n",
              "    }\n",
              "    90% {\n",
              "      border-color: transparent;\n",
              "      border-bottom-color: var(--fill-color);\n",
              "    }\n",
              "  }\n",
              "</style>\n",
              "\n",
              "  <script>\n",
              "    async function quickchart(key) {\n",
              "      const quickchartButtonEl =\n",
              "        document.querySelector('#' + key + ' button');\n",
              "      quickchartButtonEl.disabled = true;  // To prevent multiple clicks.\n",
              "      quickchartButtonEl.classList.add('colab-df-spinner');\n",
              "      try {\n",
              "        const charts = await google.colab.kernel.invokeFunction(\n",
              "            'suggestCharts', [key], {});\n",
              "      } catch (error) {\n",
              "        console.error('Error during call to suggestCharts:', error);\n",
              "      }\n",
              "      quickchartButtonEl.classList.remove('colab-df-spinner');\n",
              "      quickchartButtonEl.classList.add('colab-df-quickchart-complete');\n",
              "    }\n",
              "    (() => {\n",
              "      let quickchartButtonEl =\n",
              "        document.querySelector('#df-6552d853-a33a-4ef0-ba13-a692ac8b27d9 button');\n",
              "      quickchartButtonEl.style.display =\n",
              "        google.colab.kernel.accessAllowed ? 'block' : 'none';\n",
              "    })();\n",
              "  </script>\n",
              "</div>\n",
              "\n",
              "    </div>\n",
              "  </div>\n"
            ],
            "application/vnd.google.colaboratory.intrinsic+json": {
              "type": "dataframe",
              "summary": "{\n  \"name\": \"#train_data\",\n  \"rows\": 5,\n  \"fields\": [\n    {\n      \"column\": \"image_names\",\n      \"properties\": {\n        \"dtype\": \"string\",\n        \"num_unique_values\": 5,\n        \"samples\": [\n          \"668.jpg\",\n          \"1907.jpg\",\n          \"2082.jpg\"\n        ],\n        \"semantic_type\": \"\",\n        \"description\": \"\"\n      }\n    }\n  ]\n}"
            }
          },
          "metadata": {},
          "execution_count": 3
        }
      ]
    },
    {
      "cell_type": "code",
      "source": [
        "#Extract zipped folders\n",
        "\n",
        "import zipfile\n",
        "images_dir = '/content/Qualcomm-DL-Hackathon/train/images'\n",
        "with zipfile.ZipFile('/content/Qualcomm-DL-Hackathon/train/images part-1.zip', 'r') as zip_ref:\n",
        "    zip_ref.extractall(images_dir)\n",
        "\n",
        "with zipfile.ZipFile('/content/Qualcomm-DL-Hackathon/train/images part-2.zip', 'r') as zip_ref:\n",
        "    zip_ref.extractall(images_dir)"
      ],
      "metadata": {
        "id": "v8OghzUQ9KPB"
      },
      "execution_count": 4,
      "outputs": []
    },
    {
      "cell_type": "code",
      "source": [
        "#move images to single destimation folder\n",
        "\n",
        "import shutil\n",
        "import os\n",
        "\n",
        "source_dir1 = '/content/Qualcomm-DL-Hackathon/train/images/images part-1'\n",
        "source_dir2 = '/content/Qualcomm-DL-Hackathon/train/images/images part-2'\n",
        "destination_dir = '/content/Qualcomm-DL-Hackathon/dataset/images'\n",
        "os.makedirs(destination_dir, exist_ok=True)\n",
        "\n",
        "def copy_files(source, destination):\n",
        "    for filename in os.listdir(source):\n",
        "        source_file = os.path.join(source, filename)\n",
        "        destination_file = os.path.join(destination, filename)\n",
        "        if os.path.isfile(source_file):\n",
        "          shutil.copy(source_file, destination_dir)\n",
        "\n",
        "\n",
        "copy_files(source_dir1, destination_dir)\n",
        "copy_files(source_dir2, destination_dir)\n",
        "\n",
        "shutil.rmtree(source_dir1)\n",
        "shutil.rmtree(source_dir2)\n",
        "\n",
        "print(\"Files copied successfully!\")"
      ],
      "metadata": {
        "colab": {
          "base_uri": "https://localhost:8080/"
        },
        "id": "GVI3n5kawkM9",
        "outputId": "f63c12e5-164a-44dd-a0b8-e97fd44ae284"
      },
      "execution_count": 5,
      "outputs": [
        {
          "output_type": "stream",
          "name": "stdout",
          "text": [
            "Files copied successfully!\n"
          ]
        }
      ]
    },
    {
      "cell_type": "code",
      "source": [
        "!pip install optuna"
      ],
      "metadata": {
        "id": "wzbuzQAw3J95",
        "outputId": "9941f221-738d-4d8d-e2b5-13dd26c29785",
        "colab": {
          "base_uri": "https://localhost:8080/"
        }
      },
      "execution_count": 6,
      "outputs": [
        {
          "output_type": "stream",
          "name": "stdout",
          "text": [
            "Collecting optuna\n",
            "  Downloading optuna-4.1.0-py3-none-any.whl.metadata (16 kB)\n",
            "Collecting alembic>=1.5.0 (from optuna)\n",
            "  Downloading alembic-1.14.0-py3-none-any.whl.metadata (7.4 kB)\n",
            "Collecting colorlog (from optuna)\n",
            "  Downloading colorlog-6.9.0-py3-none-any.whl.metadata (10 kB)\n",
            "Requirement already satisfied: numpy in /usr/local/lib/python3.10/dist-packages (from optuna) (1.26.4)\n",
            "Requirement already satisfied: packaging>=20.0 in /usr/local/lib/python3.10/dist-packages (from optuna) (24.2)\n",
            "Requirement already satisfied: sqlalchemy>=1.4.2 in /usr/local/lib/python3.10/dist-packages (from optuna) (2.0.36)\n",
            "Requirement already satisfied: tqdm in /usr/local/lib/python3.10/dist-packages (from optuna) (4.67.1)\n",
            "Requirement already satisfied: PyYAML in /usr/local/lib/python3.10/dist-packages (from optuna) (6.0.2)\n",
            "Collecting Mako (from alembic>=1.5.0->optuna)\n",
            "  Downloading Mako-1.3.8-py3-none-any.whl.metadata (2.9 kB)\n",
            "Requirement already satisfied: typing-extensions>=4 in /usr/local/lib/python3.10/dist-packages (from alembic>=1.5.0->optuna) (4.12.2)\n",
            "Requirement already satisfied: greenlet!=0.4.17 in /usr/local/lib/python3.10/dist-packages (from sqlalchemy>=1.4.2->optuna) (3.1.1)\n",
            "Requirement already satisfied: MarkupSafe>=0.9.2 in /usr/local/lib/python3.10/dist-packages (from Mako->alembic>=1.5.0->optuna) (3.0.2)\n",
            "Downloading optuna-4.1.0-py3-none-any.whl (364 kB)\n",
            "\u001b[2K   \u001b[90m━━━━━━━━━━━━━━━━━━━━━━━━━━━━━━━━━━━━━━━━\u001b[0m \u001b[32m364.4/364.4 kB\u001b[0m \u001b[31m13.2 MB/s\u001b[0m eta \u001b[36m0:00:00\u001b[0m\n",
            "\u001b[?25hDownloading alembic-1.14.0-py3-none-any.whl (233 kB)\n",
            "\u001b[2K   \u001b[90m━━━━━━━━━━━━━━━━━━━━━━━━━━━━━━━━━━━━━━━━\u001b[0m \u001b[32m233.5/233.5 kB\u001b[0m \u001b[31m12.8 MB/s\u001b[0m eta \u001b[36m0:00:00\u001b[0m\n",
            "\u001b[?25hDownloading colorlog-6.9.0-py3-none-any.whl (11 kB)\n",
            "Downloading Mako-1.3.8-py3-none-any.whl (78 kB)\n",
            "\u001b[2K   \u001b[90m━━━━━━━━━━━━━━━━━━━━━━━━━━━━━━━━━━━━━━━━\u001b[0m \u001b[32m78.6/78.6 kB\u001b[0m \u001b[31m6.6 MB/s\u001b[0m eta \u001b[36m0:00:00\u001b[0m\n",
            "\u001b[?25hInstalling collected packages: Mako, colorlog, alembic, optuna\n",
            "Successfully installed Mako-1.3.8 alembic-1.14.0 colorlog-6.9.0 optuna-4.1.0\n"
          ]
        }
      ]
    },
    {
      "cell_type": "code",
      "source": [
        "#Import required modules\n",
        "\n",
        "import torch\n",
        "import torch.nn as nn\n",
        "import torch.optim as optim\n",
        "import torchvision.transforms as transforms\n",
        "from torch.utils.data import Dataset, DataLoader, random_split\n",
        "from PIL import Image\n",
        "import pandas as pd\n",
        "import os\n",
        "import torch.nn.functional as F\n",
        "import optuna\n"
      ],
      "metadata": {
        "id": "ThjAlX1Yiu5h"
      },
      "execution_count": 7,
      "outputs": []
    },
    {
      "cell_type": "code",
      "source": [
        "class EmergencyVehicleDataset(Dataset):\n",
        "    def __init__(self, csv_file, root_dir, transform=None):\n",
        "        self.data = pd.read_csv(csv_file)\n",
        "        self.root_dir = root_dir\n",
        "        self.transform = transform\n",
        "\n",
        "    def __len__(self):\n",
        "        return len(self.data)\n",
        "\n",
        "    def __getitem__(self, idx):\n",
        "         #Get path for image\n",
        "        img_name = os.path.join(self.root_dir, self.data.iloc[idx, 0])\n",
        "        image = Image.open(img_name)\n",
        "\n",
        "        #check if CSV file has more than one column. Train CSV has 2nd column to be extracted.\n",
        "        if self.data.shape[1] > 1:\n",
        "            label = self.data.iloc[idx, 1]\n",
        "        else:\n",
        "            label = 0 #Test CSV doesn't have 2nd column. so, assign 0 by default.\n",
        "\n",
        "        #Apply transform for images mentioned CSV file\n",
        "        if self.transform:\n",
        "            image = self.transform(image)\n",
        "        return image, label\n"
      ],
      "metadata": {
        "id": "bk5xr1GYpFtV"
      },
      "execution_count": 8,
      "outputs": []
    },
    {
      "cell_type": "code",
      "source": [
        "# Define transformations\n",
        "\n",
        "#transform with data augmentation.\n",
        "train_transforms = transforms.Compose([\n",
        "    transforms.RandomResizedCrop(224),  # Random crop and resize to 224x224\n",
        "    transforms.RandomHorizontalFlip(),  # Randomly flip the image horizontally\n",
        "    transforms.RandomRotation(20),      # Random rotation of up to 20 degrees\n",
        "    transforms.ColorJitter(brightness=0.2, contrast=0.2, saturation=0.2, hue=0.2),  # Random color jitter\n",
        "    transforms.ToTensor(),\n",
        "    transforms.Normalize(mean=[0.485, 0.456, 0.406], std=[0.229, 0.224, 0.225])  # ImageNet mean/std\n",
        "])\n",
        "\n",
        "\n",
        "#Data augmentation is degrading model performance. So, applying below transform\n",
        "transform = transforms.Compose([\n",
        "    transforms.Resize((224, 224)),  #All images are with 224x224. Default is giving better performance\n",
        "    transforms.ToTensor(),\n",
        "    transforms.Normalize(mean=[0.485, 0.456, 0.406], std=[0.229, 0.224, 0.225]),\n",
        "    #transforms.Normalize(mean=[0.5, 0.5, 0.5], std=[0.5, 0.5, 0.5]),\n",
        "])\n"
      ],
      "metadata": {
        "id": "U1Mf3AXe0VZ3"
      },
      "execution_count": 9,
      "outputs": []
    },
    {
      "cell_type": "code",
      "source": [
        "# Load the dataset\n",
        "train_csv_dir = '/content/Qualcomm-DL-Hackathon/train/train.csv'\n",
        "test_csv_dir = '/content/Qualcomm-DL-Hackathon/test.csv'\n",
        "train_dataset = EmergencyVehicleDataset(csv_file=train_csv_dir, root_dir='/content/Qualcomm-DL-Hackathon/dataset/images', transform=transform)\n",
        "\n",
        "# Split training data into training and validation sets\n",
        "train_size = int(0.8 * len(train_dataset))\n",
        "val_size = len(train_dataset) - train_size\n",
        "train_data, val_data = random_split(train_dataset, [train_size, val_size])\n"
      ],
      "metadata": {
        "id": "-_LGtfFgpyJu"
      },
      "execution_count": 10,
      "outputs": []
    },
    {
      "cell_type": "code",
      "source": [
        "#Use GPU when available\n",
        "device = torch.device(\"cuda\" if torch.cuda.is_available() else \"cpu\")"
      ],
      "metadata": {
        "id": "TCOs7aDVLFKH"
      },
      "execution_count": 11,
      "outputs": []
    },
    {
      "cell_type": "markdown",
      "source": [
        "GoogleNet/Inception model is giving better performance for this dataset. But need to identify best hyperparameters. Using Optuna for this"
      ],
      "metadata": {
        "id": "DOIosxLS6ux1"
      }
    },
    {
      "cell_type": "code",
      "source": [
        "import torch\n",
        "import torch.nn as nn\n",
        "import torchvision.transforms as transforms\n",
        "from torchvision import datasets, models\n",
        "import optuna\n",
        "\n",
        "# Define the objective function for Optuna\n",
        "def objective(trial):\n",
        "    # Suggest hyperparameters\n",
        "    lr = trial.suggest_loguniform('lr', 1e-5, 1e-2)\n",
        "    batch_size = trial.suggest_categorical('batch_size', [16, 32, 64])\n",
        "\n",
        "    # Load the dataset with the suggested batch size\n",
        "    train_loader = torch.utils.data.DataLoader(dataset=train_data, batch_size=batch_size, shuffle=True)\n",
        "    val_loader = torch.utils.data.DataLoader(dataset=val_data, batch_size=batch_size, shuffle=False)\n",
        "\n",
        "    # Load the pretrained GoogLeNet model\n",
        "    model = models.googlenet(pretrained=True)\n",
        "\n",
        "    # Modify the classifier to match the number of outputs (2 in this case)\n",
        "    num_features = model.fc.in_features\n",
        "    model.fc = nn.Linear(num_features, 2)\n",
        "    model.to(device)\n",
        "\n",
        "    # Define the loss function and optimizer\n",
        "    criterion = nn.CrossEntropyLoss()\n",
        "    optimizer = torch.optim.Adam(model.parameters(), lr=lr) #Use Adam optimizer\n",
        "\n",
        "    # Training loop\n",
        "    num_epochs = 10\n",
        "    for epoch in range(num_epochs):\n",
        "        model.train() #Set the model to train\n",
        "        running_loss = 0.0\n",
        "        correct_train = 0\n",
        "        total_train = 0\n",
        "        for images, labels in train_loader: #Iterate over batches of images and labels\n",
        "            images, labels = images.to(device), labels.to(device)\n",
        "            optimizer.zero_grad() #Clear the gradients\n",
        "            outputs = model(images)\n",
        "            loss = criterion(outputs, labels) #Compute the loss\n",
        "            loss.backward() #backpropagate the loss to adjust gradients\n",
        "            optimizer.step()\n",
        "            running_loss += loss.item()\n",
        "\n",
        "            _, predicted = torch.max(outputs.data, 1)\n",
        "            total_train += labels.size(0)\n",
        "            correct_train += (predicted == labels).sum().item()\n",
        "\n",
        "        train_accuracy = 100 * correct_train / total_train\n",
        "\n",
        "        # Validation loop\n",
        "        model.eval() #Set the model to eval\n",
        "        correct_val = 0\n",
        "        total_val = 0\n",
        "        with torch.no_grad():  #Disables gradient calculation for validation\n",
        "            for images, labels in val_loader:\n",
        "                images, labels = images.to(device), labels.to(device)\n",
        "                outputs = model(images)\n",
        "                _, predicted = torch.max(outputs.data, 1)\n",
        "                total_val += labels.size(0)\n",
        "                correct_val += (predicted == labels).sum().item()\n",
        "\n",
        "        val_accuracy = 100 * correct_val / total_val\n",
        "        print(f'Epoch [{epoch+1}/{num_epochs}], Loss: {running_loss/len(train_loader):.4f}, Training Accuracy: {train_accuracy:.2f}%, Validation Accuracy: {val_accuracy:.2f}%')\n",
        "\n",
        "    return val_accuracy\n",
        "\n",
        "# Create an Optuna study and optimize the objective function\n",
        "study = optuna.create_study(direction='maximize')\n",
        "study.optimize(objective, n_trials=20)\n",
        "\n",
        "# Print the best hyperparameters\n",
        "print('Best hyperparameters:', study.best_params)\n"
      ],
      "metadata": {
        "id": "NTxf4bPfSVWa",
        "outputId": "95e33ecb-3813-4bc3-abed-b3ee7824a4fb",
        "colab": {
          "base_uri": "https://localhost:8080/"
        }
      },
      "execution_count": null,
      "outputs": [
        {
          "metadata": {
            "tags": null
          },
          "name": "stderr",
          "output_type": "stream",
          "text": [
            "[I 2025-01-05 16:48:50,622] A new study created in memory with name: no-name-043a5786-3fac-4aaf-bf37-a64d1daf2e7a\n",
            "<ipython-input-83-817ca402516c>:10: FutureWarning: suggest_loguniform has been deprecated in v3.0.0. This feature will be removed in v6.0.0. See https://github.com/optuna/optuna/releases/tag/v3.0.0. Use suggest_float(..., log=True) instead.\n",
            "  lr = trial.suggest_loguniform('lr', 1e-5, 1e-2)\n"
          ]
        },
        {
          "metadata": {
            "tags": null
          },
          "name": "stdout",
          "output_type": "stream",
          "text": [
            "Epoch [1/10], Loss: 0.6309, Training Accuracy: 69.38%, Validation Accuracy: 43.03%\n",
            "Epoch [2/10], Loss: 0.5985, Training Accuracy: 73.56%, Validation Accuracy: 74.85%\n",
            "Epoch [3/10], Loss: 0.5458, Training Accuracy: 76.29%, Validation Accuracy: 78.18%\n",
            "Epoch [4/10], Loss: 0.4321, Training Accuracy: 80.47%, Validation Accuracy: 73.64%\n",
            "Epoch [5/10], Loss: 0.3903, Training Accuracy: 82.22%, Validation Accuracy: 79.70%\n",
            "Epoch [6/10], Loss: 0.3645, Training Accuracy: 84.27%, Validation Accuracy: 82.42%\n",
            "Epoch [7/10], Loss: 0.3558, Training Accuracy: 84.80%, Validation Accuracy: 60.91%\n",
            "Epoch [8/10], Loss: 0.3737, Training Accuracy: 83.66%, Validation Accuracy: 84.55%\n",
            "Epoch [9/10], Loss: 0.3432, Training Accuracy: 86.47%, Validation Accuracy: 71.21%\n"
          ]
        },
        {
          "metadata": {
            "tags": null
          },
          "name": "stderr",
          "output_type": "stream",
          "text": [
            "[I 2025-01-05 16:50:08,102] Trial 0 finished with value: 73.33333333333333 and parameters: {'lr': 0.0055284956931205805, 'batch_size': 16}. Best is trial 0 with value: 73.33333333333333.\n"
          ]
        },
        {
          "metadata": {
            "tags": null
          },
          "name": "stdout",
          "output_type": "stream",
          "text": [
            "Epoch [10/10], Loss: 0.2772, Training Accuracy: 87.54%, Validation Accuracy: 73.33%\n",
            "Epoch [1/10], Loss: 0.5224, Training Accuracy: 76.22%, Validation Accuracy: 76.97%\n",
            "Epoch [2/10], Loss: 0.5182, Training Accuracy: 77.28%, Validation Accuracy: 73.03%\n",
            "Epoch [3/10], Loss: 0.6075, Training Accuracy: 72.64%, Validation Accuracy: 45.45%\n",
            "Epoch [4/10], Loss: 0.5137, Training Accuracy: 76.52%, Validation Accuracy: 75.76%\n",
            "Epoch [5/10], Loss: 0.4336, Training Accuracy: 81.16%, Validation Accuracy: 57.58%\n",
            "Epoch [6/10], Loss: 0.3779, Training Accuracy: 83.59%, Validation Accuracy: 76.36%\n",
            "Epoch [7/10], Loss: 0.3331, Training Accuracy: 85.94%, Validation Accuracy: 78.48%\n",
            "Epoch [8/10], Loss: 0.3176, Training Accuracy: 87.54%, Validation Accuracy: 79.70%\n",
            "Epoch [9/10], Loss: 0.2855, Training Accuracy: 87.99%, Validation Accuracy: 43.94%\n"
          ]
        },
        {
          "metadata": {
            "tags": null
          },
          "name": "stderr",
          "output_type": "stream",
          "text": [
            "[I 2025-01-05 16:51:25,248] Trial 1 finished with value: 86.06060606060606 and parameters: {'lr': 0.005693326776517646, 'batch_size': 16}. Best is trial 1 with value: 86.06060606060606.\n"
          ]
        },
        {
          "metadata": {
            "tags": null
          },
          "name": "stdout",
          "output_type": "stream",
          "text": [
            "Epoch [10/10], Loss: 0.3137, Training Accuracy: 87.08%, Validation Accuracy: 86.06%\n",
            "Epoch [1/10], Loss: 0.3910, Training Accuracy: 84.80%, Validation Accuracy: 90.91%\n",
            "Epoch [2/10], Loss: 0.1530, Training Accuracy: 95.90%, Validation Accuracy: 92.42%\n",
            "Epoch [3/10], Loss: 0.0739, Training Accuracy: 98.71%, Validation Accuracy: 92.42%\n",
            "Epoch [4/10], Loss: 0.0353, Training Accuracy: 99.54%, Validation Accuracy: 92.42%\n",
            "Epoch [5/10], Loss: 0.0214, Training Accuracy: 99.85%, Validation Accuracy: 91.82%\n",
            "Epoch [6/10], Loss: 0.0164, Training Accuracy: 99.92%, Validation Accuracy: 92.12%\n",
            "Epoch [7/10], Loss: 0.0110, Training Accuracy: 99.85%, Validation Accuracy: 91.21%\n",
            "Epoch [8/10], Loss: 0.0078, Training Accuracy: 99.85%, Validation Accuracy: 91.82%\n",
            "Epoch [9/10], Loss: 0.0082, Training Accuracy: 99.92%, Validation Accuracy: 92.12%\n"
          ]
        },
        {
          "metadata": {
            "tags": null
          },
          "name": "stderr",
          "output_type": "stream",
          "text": [
            "[I 2025-01-05 16:52:42,057] Trial 2 finished with value: 92.12121212121212 and parameters: {'lr': 6.490000092151222e-05, 'batch_size': 32}. Best is trial 2 with value: 92.12121212121212.\n"
          ]
        },
        {
          "metadata": {
            "tags": null
          },
          "name": "stdout",
          "output_type": "stream",
          "text": [
            "Epoch [10/10], Loss: 0.0070, Training Accuracy: 99.92%, Validation Accuracy: 92.12%\n",
            "Epoch [1/10], Loss: 0.2662, Training Accuracy: 88.37%, Validation Accuracy: 93.94%\n",
            "Epoch [2/10], Loss: 0.0704, Training Accuracy: 97.87%, Validation Accuracy: 91.52%\n",
            "Epoch [3/10], Loss: 0.0216, Training Accuracy: 99.39%, Validation Accuracy: 93.03%\n",
            "Epoch [4/10], Loss: 0.0215, Training Accuracy: 99.47%, Validation Accuracy: 90.30%\n",
            "Epoch [5/10], Loss: 0.0079, Training Accuracy: 99.85%, Validation Accuracy: 92.42%\n",
            "Epoch [6/10], Loss: 0.0049, Training Accuracy: 99.92%, Validation Accuracy: 93.64%\n",
            "Epoch [7/10], Loss: 0.0028, Training Accuracy: 99.85%, Validation Accuracy: 93.33%\n",
            "Epoch [8/10], Loss: 0.0023, Training Accuracy: 99.92%, Validation Accuracy: 93.33%\n",
            "Epoch [9/10], Loss: 0.0024, Training Accuracy: 99.92%, Validation Accuracy: 93.33%\n"
          ]
        },
        {
          "metadata": {
            "tags": null
          },
          "name": "stderr",
          "output_type": "stream",
          "text": [
            "[I 2025-01-05 16:53:59,876] Trial 3 finished with value: 93.93939393939394 and parameters: {'lr': 0.0005949213329212539, 'batch_size': 64}. Best is trial 3 with value: 93.93939393939394.\n"
          ]
        },
        {
          "output_type": "stream",
          "name": "stdout",
          "text": [
            "Epoch [10/10], Loss: 0.0021, Training Accuracy: 99.92%, Validation Accuracy: 93.94%\n",
            "Epoch [1/10], Loss: 0.3069, Training Accuracy: 88.37%, Validation Accuracy: 91.52%\n",
            "Epoch [2/10], Loss: 0.0755, Training Accuracy: 97.95%, Validation Accuracy: 93.33%\n",
            "Epoch [3/10], Loss: 0.0254, Training Accuracy: 99.54%, Validation Accuracy: 93.33%\n",
            "Epoch [4/10], Loss: 0.0605, Training Accuracy: 99.70%, Validation Accuracy: 92.73%\n",
            "Epoch [5/10], Loss: 0.0411, Training Accuracy: 99.01%, Validation Accuracy: 93.03%\n",
            "Epoch [6/10], Loss: 0.0196, Training Accuracy: 99.54%, Validation Accuracy: 92.42%\n",
            "Epoch [7/10], Loss: 0.0097, Training Accuracy: 99.70%, Validation Accuracy: 92.73%\n",
            "Epoch [8/10], Loss: 0.0223, Training Accuracy: 99.85%, Validation Accuracy: 93.03%\n",
            "Epoch [9/10], Loss: 0.0188, Training Accuracy: 99.70%, Validation Accuracy: 92.12%\n"
          ]
        },
        {
          "output_type": "stream",
          "name": "stderr",
          "text": [
            "[I 2025-01-05 16:55:16,443] Trial 4 finished with value: 92.72727272727273 and parameters: {'lr': 0.00013351509890241383, 'batch_size': 32}. Best is trial 3 with value: 93.93939393939394.\n"
          ]
        },
        {
          "output_type": "stream",
          "name": "stdout",
          "text": [
            "Epoch [10/10], Loss: 0.0470, Training Accuracy: 99.62%, Validation Accuracy: 92.73%\n",
            "Epoch [1/10], Loss: 0.3249, Training Accuracy: 85.18%, Validation Accuracy: 86.06%\n",
            "Epoch [2/10], Loss: 0.2168, Training Accuracy: 90.65%, Validation Accuracy: 86.97%\n",
            "Epoch [3/10], Loss: 0.1744, Training Accuracy: 93.16%, Validation Accuracy: 83.33%\n",
            "Epoch [4/10], Loss: 0.1487, Training Accuracy: 94.83%, Validation Accuracy: 80.61%\n",
            "Epoch [5/10], Loss: 0.1881, Training Accuracy: 94.30%, Validation Accuracy: 77.27%\n",
            "Epoch [6/10], Loss: 0.2852, Training Accuracy: 90.50%, Validation Accuracy: 87.27%\n",
            "Epoch [7/10], Loss: 0.1374, Training Accuracy: 94.45%, Validation Accuracy: 91.52%\n",
            "Epoch [8/10], Loss: 0.0819, Training Accuracy: 97.64%, Validation Accuracy: 90.91%\n",
            "Epoch [9/10], Loss: 0.0627, Training Accuracy: 97.72%, Validation Accuracy: 82.73%\n"
          ]
        },
        {
          "output_type": "stream",
          "name": "stderr",
          "text": [
            "[I 2025-01-05 16:56:32,601] Trial 5 finished with value: 91.21212121212122 and parameters: {'lr': 0.002376917736753653, 'batch_size': 32}. Best is trial 3 with value: 93.93939393939394.\n"
          ]
        },
        {
          "output_type": "stream",
          "name": "stdout",
          "text": [
            "Epoch [10/10], Loss: 0.0664, Training Accuracy: 97.87%, Validation Accuracy: 91.21%\n",
            "Epoch [1/10], Loss: 0.4035, Training Accuracy: 84.80%, Validation Accuracy: 92.12%\n",
            "Epoch [2/10], Loss: 0.1611, Training Accuracy: 94.68%, Validation Accuracy: 92.73%\n",
            "Epoch [3/10], Loss: 0.0812, Training Accuracy: 98.02%, Validation Accuracy: 93.33%\n",
            "Epoch [4/10], Loss: 0.0479, Training Accuracy: 99.32%, Validation Accuracy: 92.73%\n",
            "Epoch [5/10], Loss: 0.0725, Training Accuracy: 99.54%, Validation Accuracy: 92.73%\n",
            "Epoch [6/10], Loss: 0.0267, Training Accuracy: 99.62%, Validation Accuracy: 92.73%\n",
            "Epoch [7/10], Loss: 0.0197, Training Accuracy: 99.62%, Validation Accuracy: 93.03%\n",
            "Epoch [8/10], Loss: 0.0382, Training Accuracy: 99.62%, Validation Accuracy: 92.12%\n",
            "Epoch [9/10], Loss: 0.0211, Training Accuracy: 99.62%, Validation Accuracy: 92.73%\n"
          ]
        },
        {
          "output_type": "stream",
          "name": "stderr",
          "text": [
            "[I 2025-01-05 16:57:49,156] Trial 6 finished with value: 93.33333333333333 and parameters: {'lr': 6.0125891205009934e-05, 'batch_size': 32}. Best is trial 3 with value: 93.93939393939394.\n"
          ]
        },
        {
          "output_type": "stream",
          "name": "stdout",
          "text": [
            "Epoch [10/10], Loss: 0.0110, Training Accuracy: 99.92%, Validation Accuracy: 93.33%\n",
            "Epoch [1/10], Loss: 0.3088, Training Accuracy: 88.15%, Validation Accuracy: 88.18%\n",
            "Epoch [2/10], Loss: 0.1140, Training Accuracy: 96.35%, Validation Accuracy: 84.24%\n",
            "Epoch [3/10], Loss: 0.0593, Training Accuracy: 98.02%, Validation Accuracy: 91.21%\n",
            "Epoch [4/10], Loss: 0.0644, Training Accuracy: 97.64%, Validation Accuracy: 89.70%\n",
            "Epoch [5/10], Loss: 0.0672, Training Accuracy: 97.72%, Validation Accuracy: 84.24%\n",
            "Epoch [6/10], Loss: 0.0614, Training Accuracy: 98.18%, Validation Accuracy: 91.21%\n",
            "Epoch [7/10], Loss: 0.0534, Training Accuracy: 98.25%, Validation Accuracy: 88.79%\n",
            "Epoch [8/10], Loss: 0.0575, Training Accuracy: 98.25%, Validation Accuracy: 90.00%\n",
            "Epoch [9/10], Loss: 0.0350, Training Accuracy: 98.78%, Validation Accuracy: 89.39%\n"
          ]
        },
        {
          "output_type": "stream",
          "name": "stderr",
          "text": [
            "[I 2025-01-05 16:59:06,454] Trial 7 finished with value: 92.42424242424242 and parameters: {'lr': 0.0016795888823879271, 'batch_size': 64}. Best is trial 3 with value: 93.93939393939394.\n"
          ]
        },
        {
          "output_type": "stream",
          "name": "stdout",
          "text": [
            "Epoch [10/10], Loss: 0.0206, Training Accuracy: 99.39%, Validation Accuracy: 92.42%\n",
            "Epoch [1/10], Loss: 0.3205, Training Accuracy: 87.77%, Validation Accuracy: 91.21%\n",
            "Epoch [2/10], Loss: 0.0937, Training Accuracy: 97.11%, Validation Accuracy: 92.42%\n",
            "Epoch [3/10], Loss: 0.0493, Training Accuracy: 99.09%, Validation Accuracy: 92.12%\n",
            "Epoch [4/10], Loss: 0.0292, Training Accuracy: 99.70%, Validation Accuracy: 93.64%\n",
            "Epoch [5/10], Loss: 0.0153, Training Accuracy: 99.70%, Validation Accuracy: 93.94%\n",
            "Epoch [6/10], Loss: 0.0268, Training Accuracy: 99.70%, Validation Accuracy: 93.03%\n",
            "Epoch [7/10], Loss: 0.0214, Training Accuracy: 99.47%, Validation Accuracy: 92.42%\n",
            "Epoch [8/10], Loss: 0.0099, Training Accuracy: 99.85%, Validation Accuracy: 93.03%\n",
            "Epoch [9/10], Loss: 0.0070, Training Accuracy: 99.85%, Validation Accuracy: 93.94%\n"
          ]
        },
        {
          "output_type": "stream",
          "name": "stderr",
          "text": [
            "[I 2025-01-05 17:00:23,613] Trial 8 finished with value: 92.12121212121212 and parameters: {'lr': 9.344886752225644e-05, 'batch_size': 32}. Best is trial 3 with value: 93.93939393939394.\n"
          ]
        },
        {
          "output_type": "stream",
          "name": "stdout",
          "text": [
            "Epoch [10/10], Loss: 0.0271, Training Accuracy: 99.85%, Validation Accuracy: 92.12%\n",
            "Epoch [1/10], Loss: 0.3239, Training Accuracy: 86.17%, Validation Accuracy: 66.06%\n",
            "Epoch [2/10], Loss: 0.1505, Training Accuracy: 94.83%, Validation Accuracy: 86.36%\n",
            "Epoch [3/10], Loss: 0.0792, Training Accuracy: 97.34%, Validation Accuracy: 84.55%\n",
            "Epoch [4/10], Loss: 0.1248, Training Accuracy: 95.67%, Validation Accuracy: 90.00%\n",
            "Epoch [5/10], Loss: 0.1129, Training Accuracy: 95.90%, Validation Accuracy: 88.18%\n",
            "Epoch [6/10], Loss: 0.0572, Training Accuracy: 98.18%, Validation Accuracy: 73.64%\n",
            "Epoch [7/10], Loss: 0.1094, Training Accuracy: 96.12%, Validation Accuracy: 83.33%\n",
            "Epoch [8/10], Loss: 0.0664, Training Accuracy: 97.34%, Validation Accuracy: 91.82%\n",
            "Epoch [9/10], Loss: 0.0370, Training Accuracy: 98.94%, Validation Accuracy: 91.52%\n"
          ]
        },
        {
          "output_type": "stream",
          "name": "stderr",
          "text": [
            "[I 2025-01-05 17:01:40,886] Trial 9 finished with value: 92.72727272727273 and parameters: {'lr': 0.0024008150855812874, 'batch_size': 64}. Best is trial 3 with value: 93.93939393939394.\n"
          ]
        },
        {
          "output_type": "stream",
          "name": "stdout",
          "text": [
            "Epoch [10/10], Loss: 0.0356, Training Accuracy: 99.39%, Validation Accuracy: 92.73%\n",
            "Epoch [1/10], Loss: 0.6749, Training Accuracy: 57.29%, Validation Accuracy: 72.12%\n",
            "Epoch [2/10], Loss: 0.5491, Training Accuracy: 81.69%, Validation Accuracy: 84.55%\n",
            "Epoch [3/10], Loss: 0.4516, Training Accuracy: 87.46%, Validation Accuracy: 87.88%\n",
            "Epoch [4/10], Loss: 0.3775, Training Accuracy: 91.26%, Validation Accuracy: 89.39%\n",
            "Epoch [5/10], Loss: 0.3163, Training Accuracy: 93.01%, Validation Accuracy: 88.79%\n",
            "Epoch [6/10], Loss: 0.2748, Training Accuracy: 93.69%, Validation Accuracy: 91.21%\n",
            "Epoch [7/10], Loss: 0.2339, Training Accuracy: 94.53%, Validation Accuracy: 91.21%\n",
            "Epoch [8/10], Loss: 0.1985, Training Accuracy: 95.82%, Validation Accuracy: 90.91%\n",
            "Epoch [9/10], Loss: 0.1702, Training Accuracy: 96.73%, Validation Accuracy: 91.21%\n"
          ]
        },
        {
          "output_type": "stream",
          "name": "stderr",
          "text": [
            "[I 2025-01-05 17:02:58,155] Trial 10 finished with value: 91.51515151515152 and parameters: {'lr': 1.0740253797111332e-05, 'batch_size': 64}. Best is trial 3 with value: 93.93939393939394.\n"
          ]
        },
        {
          "output_type": "stream",
          "name": "stdout",
          "text": [
            "Epoch [10/10], Loss: 0.1504, Training Accuracy: 97.11%, Validation Accuracy: 91.52%\n",
            "Epoch [1/10], Loss: 0.2655, Training Accuracy: 89.59%, Validation Accuracy: 90.30%\n",
            "Epoch [2/10], Loss: 0.0605, Training Accuracy: 98.25%, Validation Accuracy: 93.64%\n",
            "Epoch [3/10], Loss: 0.0229, Training Accuracy: 99.39%, Validation Accuracy: 93.33%\n",
            "Epoch [4/10], Loss: 0.0081, Training Accuracy: 99.85%, Validation Accuracy: 93.64%\n",
            "Epoch [5/10], Loss: 0.0046, Training Accuracy: 99.92%, Validation Accuracy: 94.24%\n",
            "Epoch [6/10], Loss: 0.0032, Training Accuracy: 99.92%, Validation Accuracy: 93.94%\n",
            "Epoch [7/10], Loss: 0.0028, Training Accuracy: 99.92%, Validation Accuracy: 93.64%\n",
            "Epoch [8/10], Loss: 0.0026, Training Accuracy: 99.92%, Validation Accuracy: 93.94%\n",
            "Epoch [9/10], Loss: 0.0025, Training Accuracy: 99.92%, Validation Accuracy: 93.64%\n"
          ]
        },
        {
          "output_type": "stream",
          "name": "stderr",
          "text": [
            "[I 2025-01-05 17:04:15,350] Trial 11 finished with value: 93.93939393939394 and parameters: {'lr': 0.00040774040862528565, 'batch_size': 64}. Best is trial 3 with value: 93.93939393939394.\n"
          ]
        },
        {
          "output_type": "stream",
          "name": "stdout",
          "text": [
            "Epoch [10/10], Loss: 0.0023, Training Accuracy: 99.92%, Validation Accuracy: 93.94%\n",
            "Epoch [1/10], Loss: 0.2604, Training Accuracy: 89.13%, Validation Accuracy: 94.24%\n",
            "Epoch [2/10], Loss: 0.0596, Training Accuracy: 98.18%, Validation Accuracy: 92.73%\n",
            "Epoch [3/10], Loss: 0.0187, Training Accuracy: 99.32%, Validation Accuracy: 92.12%\n",
            "Epoch [4/10], Loss: 0.0126, Training Accuracy: 99.85%, Validation Accuracy: 92.42%\n",
            "Epoch [5/10], Loss: 0.0124, Training Accuracy: 99.77%, Validation Accuracy: 91.82%\n",
            "Epoch [6/10], Loss: 0.0060, Training Accuracy: 99.92%, Validation Accuracy: 93.03%\n",
            "Epoch [7/10], Loss: 0.0053, Training Accuracy: 99.92%, Validation Accuracy: 92.42%\n",
            "Epoch [8/10], Loss: 0.0035, Training Accuracy: 99.92%, Validation Accuracy: 92.73%\n",
            "Epoch [9/10], Loss: 0.0023, Training Accuracy: 99.92%, Validation Accuracy: 92.12%\n"
          ]
        },
        {
          "output_type": "stream",
          "name": "stderr",
          "text": [
            "[I 2025-01-05 17:05:32,951] Trial 12 finished with value: 92.72727272727273 and parameters: {'lr': 0.0005084106140390859, 'batch_size': 64}. Best is trial 3 with value: 93.93939393939394.\n"
          ]
        },
        {
          "output_type": "stream",
          "name": "stdout",
          "text": [
            "Epoch [10/10], Loss: 0.0023, Training Accuracy: 99.92%, Validation Accuracy: 92.73%\n",
            "Epoch [1/10], Loss: 0.2562, Training Accuracy: 87.84%, Validation Accuracy: 93.64%\n",
            "Epoch [2/10], Loss: 0.0501, Training Accuracy: 98.48%, Validation Accuracy: 89.09%\n",
            "Epoch [3/10], Loss: 0.0129, Training Accuracy: 99.85%, Validation Accuracy: 93.64%\n",
            "Epoch [4/10], Loss: 0.0049, Training Accuracy: 99.92%, Validation Accuracy: 93.33%\n",
            "Epoch [5/10], Loss: 0.0029, Training Accuracy: 99.92%, Validation Accuracy: 93.64%\n",
            "Epoch [6/10], Loss: 0.0035, Training Accuracy: 99.92%, Validation Accuracy: 93.33%\n",
            "Epoch [7/10], Loss: 0.0020, Training Accuracy: 99.92%, Validation Accuracy: 93.64%\n",
            "Epoch [8/10], Loss: 0.0031, Training Accuracy: 99.92%, Validation Accuracy: 93.33%\n",
            "Epoch [9/10], Loss: 0.0027, Training Accuracy: 99.92%, Validation Accuracy: 93.33%\n"
          ]
        },
        {
          "output_type": "stream",
          "name": "stderr",
          "text": [
            "[I 2025-01-05 17:06:50,262] Trial 13 finished with value: 93.93939393939394 and parameters: {'lr': 0.00043444673918785476, 'batch_size': 64}. Best is trial 3 with value: 93.93939393939394.\n"
          ]
        },
        {
          "output_type": "stream",
          "name": "stdout",
          "text": [
            "Epoch [10/10], Loss: 0.0023, Training Accuracy: 99.92%, Validation Accuracy: 93.94%\n",
            "Epoch [1/10], Loss: 0.2323, Training Accuracy: 91.11%, Validation Accuracy: 77.58%\n",
            "Epoch [2/10], Loss: 0.0647, Training Accuracy: 98.33%, Validation Accuracy: 93.33%\n",
            "Epoch [3/10], Loss: 0.0194, Training Accuracy: 99.47%, Validation Accuracy: 91.52%\n",
            "Epoch [4/10], Loss: 0.0233, Training Accuracy: 99.32%, Validation Accuracy: 92.73%\n",
            "Epoch [5/10], Loss: 0.0384, Training Accuracy: 99.09%, Validation Accuracy: 92.73%\n",
            "Epoch [6/10], Loss: 0.0262, Training Accuracy: 99.24%, Validation Accuracy: 92.42%\n",
            "Epoch [7/10], Loss: 0.0165, Training Accuracy: 99.47%, Validation Accuracy: 90.30%\n",
            "Epoch [8/10], Loss: 0.0264, Training Accuracy: 99.16%, Validation Accuracy: 93.03%\n",
            "Epoch [9/10], Loss: 0.0192, Training Accuracy: 99.39%, Validation Accuracy: 92.12%\n"
          ]
        },
        {
          "output_type": "stream",
          "name": "stderr",
          "text": [
            "[I 2025-01-05 17:08:07,647] Trial 14 finished with value: 93.93939393939394 and parameters: {'lr': 0.0009312590296452612, 'batch_size': 64}. Best is trial 3 with value: 93.93939393939394.\n"
          ]
        },
        {
          "output_type": "stream",
          "name": "stdout",
          "text": [
            "Epoch [10/10], Loss: 0.0233, Training Accuracy: 99.09%, Validation Accuracy: 93.94%\n",
            "Epoch [1/10], Loss: 0.2951, Training Accuracy: 87.23%, Validation Accuracy: 93.33%\n",
            "Epoch [2/10], Loss: 0.0598, Training Accuracy: 98.56%, Validation Accuracy: 93.03%\n",
            "Epoch [3/10], Loss: 0.0170, Training Accuracy: 99.85%, Validation Accuracy: 93.64%\n",
            "Epoch [4/10], Loss: 0.0073, Training Accuracy: 99.92%, Validation Accuracy: 94.55%\n",
            "Epoch [5/10], Loss: 0.0048, Training Accuracy: 99.92%, Validation Accuracy: 94.55%\n",
            "Epoch [6/10], Loss: 0.0042, Training Accuracy: 99.85%, Validation Accuracy: 94.55%\n",
            "Epoch [7/10], Loss: 0.0036, Training Accuracy: 99.92%, Validation Accuracy: 94.55%\n",
            "Epoch [8/10], Loss: 0.0030, Training Accuracy: 99.92%, Validation Accuracy: 94.24%\n",
            "Epoch [9/10], Loss: 0.0030, Training Accuracy: 99.92%, Validation Accuracy: 94.24%\n"
          ]
        },
        {
          "output_type": "stream",
          "name": "stderr",
          "text": [
            "[I 2025-01-05 17:09:24,818] Trial 15 finished with value: 94.24242424242425 and parameters: {'lr': 0.00022681637981194816, 'batch_size': 64}. Best is trial 15 with value: 94.24242424242425.\n"
          ]
        },
        {
          "output_type": "stream",
          "name": "stdout",
          "text": [
            "Epoch [10/10], Loss: 0.0029, Training Accuracy: 99.92%, Validation Accuracy: 94.24%\n",
            "Epoch [1/10], Loss: 0.3192, Training Accuracy: 86.70%, Validation Accuracy: 93.33%\n",
            "Epoch [2/10], Loss: 0.0649, Training Accuracy: 98.40%, Validation Accuracy: 92.42%\n",
            "Epoch [3/10], Loss: 0.0190, Training Accuracy: 99.70%, Validation Accuracy: 93.03%\n",
            "Epoch [4/10], Loss: 0.0105, Training Accuracy: 99.77%, Validation Accuracy: 93.64%\n",
            "Epoch [5/10], Loss: 0.0067, Training Accuracy: 99.92%, Validation Accuracy: 93.64%\n",
            "Epoch [6/10], Loss: 0.0052, Training Accuracy: 99.92%, Validation Accuracy: 93.03%\n",
            "Epoch [7/10], Loss: 0.0041, Training Accuracy: 99.92%, Validation Accuracy: 93.03%\n",
            "Epoch [8/10], Loss: 0.0047, Training Accuracy: 99.92%, Validation Accuracy: 93.03%\n",
            "Epoch [9/10], Loss: 0.0031, Training Accuracy: 99.92%, Validation Accuracy: 93.64%\n"
          ]
        },
        {
          "output_type": "stream",
          "name": "stderr",
          "text": [
            "[I 2025-01-05 17:10:42,317] Trial 16 finished with value: 93.03030303030303 and parameters: {'lr': 0.00017838497856491144, 'batch_size': 64}. Best is trial 15 with value: 94.24242424242425.\n"
          ]
        },
        {
          "output_type": "stream",
          "name": "stdout",
          "text": [
            "Epoch [10/10], Loss: 0.0038, Training Accuracy: 99.77%, Validation Accuracy: 93.03%\n",
            "Epoch [1/10], Loss: 0.2626, Training Accuracy: 90.12%, Validation Accuracy: 95.15%\n",
            "Epoch [2/10], Loss: 0.0960, Training Accuracy: 96.58%, Validation Accuracy: 93.33%\n",
            "Epoch [3/10], Loss: 0.0491, Training Accuracy: 98.25%, Validation Accuracy: 95.15%\n",
            "Epoch [4/10], Loss: 0.0168, Training Accuracy: 99.62%, Validation Accuracy: 93.33%\n",
            "Epoch [5/10], Loss: 0.0343, Training Accuracy: 98.40%, Validation Accuracy: 89.39%\n",
            "Epoch [6/10], Loss: 0.0768, Training Accuracy: 97.64%, Validation Accuracy: 93.33%\n",
            "Epoch [7/10], Loss: 0.0826, Training Accuracy: 97.34%, Validation Accuracy: 93.33%\n",
            "Epoch [8/10], Loss: 0.0644, Training Accuracy: 99.09%, Validation Accuracy: 93.33%\n",
            "Epoch [9/10], Loss: 0.0554, Training Accuracy: 98.48%, Validation Accuracy: 93.64%\n"
          ]
        },
        {
          "output_type": "stream",
          "name": "stderr",
          "text": [
            "[I 2025-01-05 17:11:59,346] Trial 17 finished with value: 92.72727272727273 and parameters: {'lr': 0.0002353823419344622, 'batch_size': 16}. Best is trial 15 with value: 94.24242424242425.\n"
          ]
        },
        {
          "output_type": "stream",
          "name": "stdout",
          "text": [
            "Epoch [10/10], Loss: 0.0099, Training Accuracy: 99.92%, Validation Accuracy: 92.73%\n",
            "Epoch [1/10], Loss: 0.5413, Training Accuracy: 77.81%, Validation Accuracy: 85.15%\n",
            "Epoch [2/10], Loss: 0.3330, Training Accuracy: 91.72%, Validation Accuracy: 90.30%\n",
            "Epoch [3/10], Loss: 0.2205, Training Accuracy: 93.92%, Validation Accuracy: 90.91%\n",
            "Epoch [4/10], Loss: 0.1535, Training Accuracy: 96.35%, Validation Accuracy: 92.42%\n",
            "Epoch [5/10], Loss: 0.1080, Training Accuracy: 97.57%, Validation Accuracy: 92.73%\n",
            "Epoch [6/10], Loss: 0.0807, Training Accuracy: 98.71%, Validation Accuracy: 92.12%\n",
            "Epoch [7/10], Loss: 0.0644, Training Accuracy: 98.94%, Validation Accuracy: 92.73%\n",
            "Epoch [8/10], Loss: 0.0436, Training Accuracy: 99.70%, Validation Accuracy: 93.33%\n",
            "Epoch [9/10], Loss: 0.0334, Training Accuracy: 99.77%, Validation Accuracy: 92.42%\n"
          ]
        },
        {
          "output_type": "stream",
          "name": "stderr",
          "text": [
            "[I 2025-01-05 17:13:16,720] Trial 18 finished with value: 93.03030303030303 and parameters: {'lr': 2.8469938225034774e-05, 'batch_size': 64}. Best is trial 15 with value: 94.24242424242425.\n"
          ]
        },
        {
          "output_type": "stream",
          "name": "stdout",
          "text": [
            "Epoch [10/10], Loss: 0.0253, Training Accuracy: 99.77%, Validation Accuracy: 93.03%\n",
            "Epoch [1/10], Loss: 0.2690, Training Accuracy: 89.13%, Validation Accuracy: 93.64%\n",
            "Epoch [2/10], Loss: 0.0666, Training Accuracy: 97.95%, Validation Accuracy: 90.30%\n",
            "Epoch [3/10], Loss: 0.0252, Training Accuracy: 99.47%, Validation Accuracy: 92.42%\n",
            "Epoch [4/10], Loss: 0.0177, Training Accuracy: 99.39%, Validation Accuracy: 93.64%\n",
            "Epoch [5/10], Loss: 0.0171, Training Accuracy: 99.62%, Validation Accuracy: 89.39%\n",
            "Epoch [6/10], Loss: 0.0455, Training Accuracy: 98.56%, Validation Accuracy: 91.52%\n",
            "Epoch [7/10], Loss: 0.0339, Training Accuracy: 98.63%, Validation Accuracy: 93.94%\n",
            "Epoch [8/10], Loss: 0.0125, Training Accuracy: 99.62%, Validation Accuracy: 93.64%\n",
            "Epoch [9/10], Loss: 0.0065, Training Accuracy: 99.85%, Validation Accuracy: 88.79%\n"
          ]
        },
        {
          "output_type": "stream",
          "name": "stderr",
          "text": [
            "[I 2025-01-05 17:14:34,148] Trial 19 finished with value: 92.72727272727273 and parameters: {'lr': 0.0008575928390375985, 'batch_size': 64}. Best is trial 15 with value: 94.24242424242425.\n"
          ]
        },
        {
          "output_type": "stream",
          "name": "stdout",
          "text": [
            "Epoch [10/10], Loss: 0.0106, Training Accuracy: 99.70%, Validation Accuracy: 92.73%\n",
            "Best hyperparameters: {'lr': 0.00022681637981194816, 'batch_size': 64}\n"
          ]
        }
      ]
    },
    {
      "cell_type": "markdown",
      "source": [
        "Best hyperparameters identified as below: {'lr': 0.00022681637981194816, 'batch_size': 64}.\n",
        "We need to identify best num_epochs  to not overfit"
      ],
      "metadata": {
        "id": "pTxjL6yy9RPS"
      }
    },
    {
      "cell_type": "code",
      "source": [
        "# Create DataLoaders\n",
        "batch_size = 64\n",
        "train_loader = DataLoader(train_data, batch_size=batch_size, shuffle=True)\n",
        "val_loader = DataLoader(val_data, batch_size=batch_size, shuffle=True)"
      ],
      "metadata": {
        "id": "sVksW36k6DYn"
      },
      "execution_count": 12,
      "outputs": []
    },
    {
      "cell_type": "code",
      "source": [
        "import torchvision.models as models\n",
        "\n",
        "# GoogleNet model\n",
        "model = models.googlenet(pretrained=True)\n",
        "\n",
        "# Modify the fully connected layer for your specific task\n",
        "num_ftrs = model.fc.in_features\n",
        "model.fc = nn.Linear(num_ftrs, 2)  # 2 output classes\n",
        "model = model.to(device)\n",
        "\n",
        "criterion = nn.CrossEntropyLoss()\n",
        "optimizer = optim.Adam(model.parameters(), lr=0.00022681637981194816)"
      ],
      "metadata": {
        "id": "5Bw14LFG6Nd8",
        "outputId": "593c2d34-6246-4175-f940-7cf13d6ab849",
        "colab": {
          "base_uri": "https://localhost:8080/"
        }
      },
      "execution_count": 13,
      "outputs": [
        {
          "output_type": "stream",
          "name": "stderr",
          "text": [
            "/usr/local/lib/python3.10/dist-packages/torchvision/models/_utils.py:208: UserWarning: The parameter 'pretrained' is deprecated since 0.13 and may be removed in the future, please use 'weights' instead.\n",
            "  warnings.warn(\n",
            "/usr/local/lib/python3.10/dist-packages/torchvision/models/_utils.py:223: UserWarning: Arguments other than a weight enum or `None` for 'weights' are deprecated since 0.13 and may be removed in the future. The current behavior is equivalent to passing `weights=GoogLeNet_Weights.IMAGENET1K_V1`. You can also use `weights=GoogLeNet_Weights.DEFAULT` to get the most up-to-date weights.\n",
            "  warnings.warn(msg)\n",
            "Downloading: \"https://download.pytorch.org/models/googlenet-1378be20.pth\" to /root/.cache/torch/hub/checkpoints/googlenet-1378be20.pth\n",
            "100%|██████████| 49.7M/49.7M [00:00<00:00, 125MB/s]\n"
          ]
        }
      ]
    },
    {
      "cell_type": "code",
      "source": [
        "# Train the model\n",
        "previous_loss = 0.0\n",
        "num_epochs = 20\n",
        "for epoch in range(num_epochs):  # Number of epochs\n",
        "    model.train()\n",
        "    running_loss = 0.0\n",
        "    total = 0\n",
        "    correct = 0\n",
        "    for images, labels in train_loader:\n",
        "        images, labels = images.to(device), labels.to(device)\n",
        "        optimizer.zero_grad()\n",
        "        outputs = model(images)\n",
        "\n",
        "        loss = criterion(outputs, labels)\n",
        "        loss.backward()\n",
        "        optimizer.step()\n",
        "        running_loss += loss.item()\n",
        "\n",
        "        _, predicted = torch.max(outputs, 1)\n",
        "        total += labels.size(0)\n",
        "        correct += (predicted == labels).sum().item()\n",
        "\n",
        "    epoch_loss = running_loss / len(train_loader)\n",
        "    train_accuracy = 100 * correct / total\n",
        "\n",
        "    # Validation loop\n",
        "    model.eval() #Set the model to eval\n",
        "    correct_val = 0\n",
        "    total_val = 0\n",
        "    with torch.no_grad():  #Disables gradient calculation for validation\n",
        "        for images, labels in val_loader:\n",
        "          images, labels = images.to(device), labels.to(device)\n",
        "          outputs = model(images)\n",
        "          _, predicted = torch.max(outputs.data, 1)\n",
        "          total_val += labels.size(0)\n",
        "          correct_val += (predicted == labels).sum().item()\n",
        "\n",
        "    val_accuracy = 100 * correct_val / total_val\n",
        "    print(f'Epoch [{epoch+1}/{num_epochs}], Loss: {running_loss/len(train_loader):.4f}, Training Accuracy: {train_accuracy:.2f}%, Validation Accuracy: {val_accuracy:.2f}%')\n"
      ],
      "metadata": {
        "id": "Sgu4BAjH-MQr",
        "outputId": "d89c3fff-918e-4c65-9775-6eaf2440457e",
        "colab": {
          "base_uri": "https://localhost:8080/"
        }
      },
      "execution_count": 14,
      "outputs": [
        {
          "output_type": "stream",
          "name": "stdout",
          "text": [
            "Epoch [1/20], Loss: 0.2995, Training Accuracy: 86.70%, Validation Accuracy: 94.85%\n",
            "Epoch [2/20], Loss: 0.0758, Training Accuracy: 97.19%, Validation Accuracy: 95.76%\n",
            "Epoch [3/20], Loss: 0.0233, Training Accuracy: 99.54%, Validation Accuracy: 95.15%\n",
            "Epoch [4/20], Loss: 0.0094, Training Accuracy: 99.77%, Validation Accuracy: 94.85%\n",
            "Epoch [5/20], Loss: 0.0100, Training Accuracy: 99.70%, Validation Accuracy: 95.76%\n",
            "Epoch [6/20], Loss: 0.0068, Training Accuracy: 99.70%, Validation Accuracy: 96.06%\n",
            "Epoch [7/20], Loss: 0.0052, Training Accuracy: 99.77%, Validation Accuracy: 96.06%\n",
            "Epoch [8/20], Loss: 0.0066, Training Accuracy: 99.70%, Validation Accuracy: 95.45%\n",
            "Epoch [9/20], Loss: 0.0055, Training Accuracy: 99.62%, Validation Accuracy: 95.76%\n",
            "Epoch [10/20], Loss: 0.0056, Training Accuracy: 99.70%, Validation Accuracy: 95.76%\n",
            "Epoch [11/20], Loss: 0.0053, Training Accuracy: 99.70%, Validation Accuracy: 95.76%\n",
            "Epoch [12/20], Loss: 0.0048, Training Accuracy: 99.70%, Validation Accuracy: 96.06%\n",
            "Epoch [13/20], Loss: 0.0051, Training Accuracy: 99.70%, Validation Accuracy: 95.76%\n",
            "Epoch [14/20], Loss: 0.0042, Training Accuracy: 99.77%, Validation Accuracy: 95.45%\n",
            "Epoch [15/20], Loss: 0.0042, Training Accuracy: 99.70%, Validation Accuracy: 95.45%\n",
            "Epoch [16/20], Loss: 0.0044, Training Accuracy: 99.77%, Validation Accuracy: 95.76%\n",
            "Epoch [17/20], Loss: 0.0043, Training Accuracy: 99.85%, Validation Accuracy: 95.45%\n",
            "Epoch [18/20], Loss: 0.0046, Training Accuracy: 99.70%, Validation Accuracy: 95.76%\n",
            "Epoch [19/20], Loss: 0.0040, Training Accuracy: 99.77%, Validation Accuracy: 95.76%\n",
            "Epoch [20/20], Loss: 0.0043, Training Accuracy: 99.77%, Validation Accuracy: 95.45%\n"
          ]
        }
      ]
    },
    {
      "cell_type": "markdown",
      "source": [
        "As seen from above, 6-10 epochs should be enough to train the model. Now, let's build the model with all training datasets without validation set. Loss should be less"
      ],
      "metadata": {
        "id": "bZMtBeRDB_IX"
      }
    },
    {
      "cell_type": "code",
      "source": [
        "import torchvision.models as models\n",
        "\n",
        "# GoogleNet model\n",
        "model = models.googlenet(pretrained=True)\n",
        "\n",
        "# Modify the fully connected layer for your specific task\n",
        "num_ftrs = model.fc.in_features\n",
        "model.fc = nn.Linear(num_ftrs, 2)  # 2 output classes\n",
        "model = model.to(device)\n",
        "\n",
        "criterion = nn.CrossEntropyLoss()\n",
        "optimizer = optim.Adam(model.parameters(), lr=0.00022681637981194816)\n",
        "\n",
        "\n",
        "# Create train DataLoader with complete dataset\n",
        "batch_size = 64\n",
        "train_loader = DataLoader(train_dataset, batch_size=batch_size, shuffle=True)\n",
        "\n",
        "# Train the model\n",
        "num_epochs = 20\n",
        "for epoch in range(num_epochs):  # Number of epochs\n",
        "    model.train()\n",
        "    running_loss = 0.0\n",
        "    total = 0\n",
        "    correct = 0\n",
        "    for images, labels in train_loader:\n",
        "        images, labels = images.to(device), labels.to(device)\n",
        "        optimizer.zero_grad()\n",
        "        outputs = model(images)\n",
        "\n",
        "        loss = criterion(outputs, labels)\n",
        "        loss.backward()\n",
        "        optimizer.step()\n",
        "        running_loss += loss.item()\n",
        "\n",
        "        _, predicted = torch.max(outputs, 1)\n",
        "        total += labels.size(0)\n",
        "        correct += (predicted == labels).sum().item()\n",
        "\n",
        "    epoch_loss = running_loss / len(train_loader)\n",
        "    train_accuracy = 100 * correct / total\n",
        "    print(f'Epoch [{epoch+1}/{num_epochs}], Loss: {epoch_loss : .4f}, Accuracy: {train_accuracy:.2f}%')\n",
        "    if epoch_loss < 0.02:\n",
        "      print('Required loss reached')\n",
        "      break\n",
        "\n",
        "print('Finished Training')"
      ],
      "metadata": {
        "colab": {
          "base_uri": "https://localhost:8080/"
        },
        "id": "JJXlIBkLCUYn",
        "outputId": "dd8ac29a-dbc9-4d07-e2b6-d94b6f668cd9"
      },
      "execution_count": 39,
      "outputs": [
        {
          "output_type": "stream",
          "name": "stdout",
          "text": [
            "Epoch [1/20], Loss:  0.2641, Accuracy: 88.21%\n",
            "Epoch [2/20], Loss:  0.0632, Accuracy: 97.69%\n",
            "Epoch [3/20], Loss:  0.0177, Accuracy: 99.57%\n",
            "Required loss reached\n",
            "Finished Training\n"
          ]
        }
      ]
    },
    {
      "cell_type": "code",
      "source": [
        "test_dataset = EmergencyVehicleDataset(csv_file=test_csv_dir, root_dir='/content/Qualcomm-DL-Hackathon/dataset/images', transform=transform)\n",
        "test_loader = DataLoader(test_dataset, batch_size=64, shuffle=False)\n",
        "\n",
        "# Make predictions on the test data\n",
        "predictions = []\n",
        "model.eval()  # Set the model to evaluation mode\n",
        "with torch.no_grad():\n",
        "    for images, _ in test_loader:\n",
        "        images = images.to(device)\n",
        "        outputs = model(images)\n",
        "        _, predicted = torch.max(outputs, 1)\n",
        "        predictions.extend(predicted.cpu().numpy())\n",
        "\n",
        "# Create a submission dataframe\n",
        "submission_df = pd.DataFrame({'image_names': test_data['image_names'], 'emergency_or_not': predictions})\n",
        "submission_df.to_csv('submission.csv', index=False)\n",
        "\n",
        "print(\"Predictions saved to submission.csv\")"
      ],
      "metadata": {
        "id": "iKvyfbBm6kWf",
        "colab": {
          "base_uri": "https://localhost:8080/"
        },
        "outputId": "a14b4526-e87d-49fa-cc19-9ca4fe084f31"
      },
      "execution_count": 40,
      "outputs": [
        {
          "output_type": "stream",
          "name": "stdout",
          "text": [
            "Predictions saved to submission.csv\n"
          ]
        }
      ]
    },
    {
      "cell_type": "code",
      "source": [
        "#Save the model\n",
        "torch.save(model, 'entire_model.pth')"
      ],
      "metadata": {
        "id": "D3n-oJMmFqXZ"
      },
      "execution_count": 42,
      "outputs": []
    }
  ]
}